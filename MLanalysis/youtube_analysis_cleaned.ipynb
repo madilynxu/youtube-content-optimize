{
  "cells": [
    {
      "cell_type": "markdown",
      "id": "89b655aa",
      "metadata": {
        "id": "89b655aa"
      },
      "source": [
        "# 1. Import Libraries"
      ]
    },
    {
      "cell_type": "code",
      "execution_count": null,
      "id": "b73a0620",
      "metadata": {
        "id": "b73a0620"
      },
      "outputs": [],
      "source": [
        "import pandas as pd\n",
        "import numpy as np\n",
        "from google.cloud import bigquery\n",
        "from sklearn.model_selection import train_test_split\n",
        "from sklearn.linear_model import LinearRegression, RidgeCV, LassoCV\n",
        "from sklearn.ensemble import RandomForestRegressor\n",
        "from sklearn.metrics import mean_squared_error, r2_score\n",
        "import matplotlib.pyplot as plt\n",
        "import seaborn as sns\n"
      ]
    },
    {
      "cell_type": "markdown",
      "id": "5486a1f9",
      "metadata": {
        "id": "5486a1f9"
      },
      "source": [
        "# 2. Load Data from BigQuery"
      ]
    },
    {
      "cell_type": "code",
      "execution_count": null,
      "id": "f4274a9b",
      "metadata": {
        "colab": {
          "base_uri": "https://localhost:8080/"
        },
        "id": "f4274a9b",
        "outputId": "51a94d31-7d2f-4116-ef5f-03ed5b39ff8b"
      },
      "outputs": [
        {
          "output_type": "stream",
          "name": "stdout",
          "text": [
            "Successfully loaded 200 rows into a DataFrame.\n"
          ]
        }
      ],
      "source": [
        "client = bigquery.Client()\n",
        "\n",
        "project_id = 'youtube-content-optimize'\n",
        "dataset_id = 'streaming_data'\n",
        "table_id = 'youtube_video_stats'\n",
        "\n",
        "query = f\"\"\"\n",
        "    SELECT *\n",
        "    FROM `{project_id}.{dataset_id}.{table_id}`\n",
        "\"\"\"\n",
        "\n",
        "try:\n",
        "    df = client.query(query).to_dataframe()\n",
        "    print(f\"Successfully loaded {len(df)} rows into a DataFrame.\")\n",
        "except Exception as e:\n",
        "    print(f\"Error: {e}\")\n"
      ]
    },
    {
      "cell_type": "markdown",
      "id": "4d5bb910",
      "metadata": {
        "id": "4d5bb910"
      },
      "source": [
        "# 3. Data Cleaning & Preprocessing"
      ]
    },
    {
      "cell_type": "code",
      "execution_count": null,
      "id": "7267dbe3",
      "metadata": {
        "id": "7267dbe3"
      },
      "outputs": [],
      "source": [
        "# Convert timestamps and compute age\n",
        "today = pd.to_datetime('today').tz_localize(None)\n",
        "df['publishedAt'] = pd.to_datetime(df['published_at'], errors='coerce').dt.tz_localize(None)\n",
        "df['days_since_published'] = (today - df['publishedAt']).dt.days\n",
        "\n",
        "df['channel_published_at'] = pd.to_datetime(df['channel_published_at'], errors='coerce').dt.tz_localize(None)\n",
        "df['channel_age_days'] = (today - df['channel_published_at']).dt.days\n",
        "df['channel_age_days'] = df['channel_age_days'].replace(0, np.nan)\n",
        "df['video_count'] = df['video_count'].replace(0, np.nan)\n"
      ]
    },
    {
      "cell_type": "markdown",
      "id": "7f738788",
      "metadata": {
        "id": "7f738788"
      },
      "source": [
        "# 4. Feature Engineering"
      ]
    },
    {
      "cell_type": "code",
      "execution_count": null,
      "id": "8cc59c1d",
      "metadata": {
        "id": "8cc59c1d"
      },
      "outputs": [],
      "source": [
        "def compute_metrics(df):\n",
        "    df['subscriber_growth_rate'] = df['subscriber_count'] / df['channel_age_days']\n",
        "    df['upload_frequency'] = df['video_count'] / df['channel_age_days']\n",
        "    df['views_per_upload'] = df['view_count'] / df['video_count']\n",
        "    df['engagement_per_upload'] = (df['like_count'] + df['comment_count']) / df['video_count']\n",
        "    df['subscriber_per_upload'] = df['subscriber_count'] / df['video_count']\n",
        "    return df\n",
        "\n",
        "df = compute_metrics(df)\n"
      ]
    },
    {
      "cell_type": "markdown",
      "id": "598989e7",
      "metadata": {
        "id": "598989e7"
      },
      "source": [
        "# 5. Log Transformations"
      ]
    },
    {
      "cell_type": "code",
      "execution_count": null,
      "id": "a6552d3c",
      "metadata": {
        "id": "a6552d3c"
      },
      "outputs": [],
      "source": [
        "df['log_view_count'] = np.log1p(df['view_count'])\n",
        "df['log_duration_seconds'] = np.log1p(df['duration_seconds'])\n",
        "df['log_subscriber_growth_rate'] = np.log1p(df['subscriber_growth_rate'])\n",
        "df['log_upload_frequency'] = df['upload_frequency']\n",
        "df['log_views_per_upload'] = np.log1p(df['views_per_upload'])\n",
        "df['log_engagement_per_upload'] = np.log1p(df['engagement_per_upload'])\n",
        "df['log_subscriber_per_upload'] = np.log1p(df['subscriber_per_upload'])\n",
        "df['log_upload_x_engagement'] = df['log_upload_frequency'] * df['log_engagement_per_upload']\n",
        "df['log_upload_freq_squared'] = df['log_upload_frequency'] ** 2\n"
      ]
    },
    {
      "cell_type": "markdown",
      "id": "5432b5a2",
      "metadata": {
        "id": "5432b5a2"
      },
      "source": [
        "# 6. Regression Modeling"
      ]
    },
    {
      "cell_type": "code",
      "execution_count": null,
      "id": "3272e805",
      "metadata": {
        "colab": {
          "base_uri": "https://localhost:8080/"
        },
        "id": "3272e805",
        "outputId": "7bb668b5-7087-4ad9-a164-994083bd6f87"
      },
      "outputs": [
        {
          "output_type": "stream",
          "name": "stdout",
          "text": [
            "               Model        R²      RMSE\n",
            "0  Linear Regression  0.909437  0.461888\n",
            "1   Ridge Regression  0.901537  0.481611\n",
            "2   Lasso Regression  0.890786  0.507224\n",
            "3      Random Forest  0.579655  0.995092\n"
          ]
        }
      ],
      "source": [
        "features = [\n",
        "    'log_view_count', 'log_duration_seconds', 'log_subscriber_per_upload',\n",
        "    'log_upload_frequency', 'log_views_per_upload', 'log_engagement_per_upload',\n",
        "    'log_upload_x_engagement', 'log_upload_freq_squared'\n",
        "]\n",
        "X = df[features].dropna()\n",
        "y = df.loc[X.index, 'log_subscriber_growth_rate']\n",
        "\n",
        "X_train, X_test, y_train, y_test = train_test_split(X, y, test_size=0.2, random_state=42)\n",
        "\n",
        "models = {\n",
        "    'Linear Regression': LinearRegression(),\n",
        "    'Ridge Regression': RidgeCV(alphas=[0.01, 0.1, 1, 10]),\n",
        "    'Lasso Regression': LassoCV(cv=3, random_state=42),\n",
        "    'Random Forest': RandomForestRegressor(random_state=42)\n",
        "}\n",
        "\n",
        "results = []\n",
        "for name, model in models.items():\n",
        "    model.fit(X_train, y_train)\n",
        "    y_pred = model.predict(X_test)\n",
        "    r2 = r2_score(y_test, y_pred)\n",
        "    rmse = np.sqrt(mean_squared_error(y_test, y_pred))\n",
        "    results.append({'Model': name, 'R²': r2, 'RMSE': rmse})\n",
        "\n",
        "results_df = pd.DataFrame(results).sort_values(by='R²', ascending=False)\n",
        "print(results_df)\n"
      ]
    },
    {
      "cell_type": "code",
      "source": [
        "# Fit model\n",
        "lin_model = LinearRegression()\n",
        "lin_model.fit(X_train, y_train)\n",
        "\n",
        "# Get feature names and coefficients\n",
        "coef_df = pd.DataFrame({\n",
        "    'Feature': X_train.columns,\n",
        "    'Coefficient': lin_model.coef_\n",
        "}).sort_values(by='Coefficient', key=abs, ascending=False)\n",
        "\n",
        "# Display intercept and coefficients\n",
        "print(f\"Intercept: {lin_model.intercept_}\")\n",
        "print(coef_df)\n"
      ],
      "metadata": {
        "colab": {
          "base_uri": "https://localhost:8080/"
        },
        "id": "8suVcQGV-YeA",
        "outputId": "cd2b6b26-76e4-468a-9d05-8463d0328b9e"
      },
      "id": "8suVcQGV-YeA",
      "execution_count": null,
      "outputs": [
        {
          "output_type": "stream",
          "name": "stdout",
          "text": [
            "Intercept: -5.527120473678909\n",
            "                     Feature  Coefficient\n",
            "2  log_subscriber_per_upload     1.037413\n",
            "0             log_view_count     0.504502\n",
            "4       log_views_per_upload    -0.481601\n",
            "3       log_upload_frequency     0.474185\n",
            "6    log_upload_x_engagement     0.312302\n",
            "1       log_duration_seconds     0.048241\n",
            "5  log_engagement_per_upload    -0.029597\n",
            "7    log_upload_freq_squared    -0.026600\n"
          ]
        }
      ]
    },
    {
      "cell_type": "markdown",
      "source": [
        "Switch log_subscriber_growth_rate and log_view_count"
      ],
      "metadata": {
        "id": "DZnWAp9k_l_v"
      },
      "id": "DZnWAp9k_l_v"
    },
    {
      "cell_type": "code",
      "source": [
        "features = [\n",
        "    'log_subscriber_growth_rate', 'log_duration_seconds', 'log_subscriber_per_upload',\n",
        "    'log_upload_frequency', 'log_views_per_upload', 'log_engagement_per_upload',\n",
        "    'log_upload_x_engagement', 'log_upload_freq_squared'\n",
        "]\n",
        "X = df[features].dropna()\n",
        "y = df.loc[X.index, 'log_view_count']\n",
        "\n",
        "X_train, X_test, y_train, y_test = train_test_split(X, y, test_size=0.2, random_state=42)\n",
        "\n",
        "models = {\n",
        "    'Linear Regression': LinearRegression(),\n",
        "    'Ridge Regression': RidgeCV(alphas=[0.01, 0.1, 1, 10]),\n",
        "    'Lasso Regression': LassoCV(cv=3, random_state=42),\n",
        "    'Random Forest': RandomForestRegressor(random_state=42)\n",
        "}\n",
        "\n",
        "results = []\n",
        "for name, model in models.items():\n",
        "    model.fit(X_train, y_train)\n",
        "    y_pred = model.predict(X_test)\n",
        "    r2 = r2_score(y_test, y_pred)\n",
        "    rmse = np.sqrt(mean_squared_error(y_test, y_pred))\n",
        "    results.append({'Model': name, 'R²': r2, 'RMSE': rmse})\n",
        "\n",
        "results_df = pd.DataFrame(results).sort_values(by='R²', ascending=False)\n",
        "print(results_df)\n"
      ],
      "metadata": {
        "colab": {
          "base_uri": "https://localhost:8080/"
        },
        "id": "txPGFam6-q--",
        "outputId": "a83fc1b6-0db3-44b4-c264-57768a53725b"
      },
      "id": "txPGFam6-q--",
      "execution_count": null,
      "outputs": [
        {
          "output_type": "stream",
          "name": "stdout",
          "text": [
            "               Model        R²      RMSE\n",
            "2   Lasso Regression  0.513267  0.620198\n",
            "1   Ridge Regression  0.507405  0.623922\n",
            "0  Linear Regression  0.506156  0.624712\n",
            "3      Random Forest -0.049750  0.910810\n"
          ]
        },
        {
          "output_type": "stream",
          "name": "stderr",
          "text": [
            "/usr/local/lib/python3.11/dist-packages/sklearn/linear_model/_coordinate_descent.py:681: ConvergenceWarning: Objective did not converge. You might want to increase the number of iterations. Duality gap: 0.0006363725329756598, tolerance: 0.000608367421946317\n",
            "  model = cd_fast.enet_coordinate_descent_gram(\n",
            "/usr/local/lib/python3.11/dist-packages/sklearn/linear_model/_coordinate_descent.py:681: ConvergenceWarning: Objective did not converge. You might want to increase the number of iterations. Duality gap: 0.0006596299171155451, tolerance: 0.000608367421946317\n",
            "  model = cd_fast.enet_coordinate_descent_gram(\n",
            "/usr/local/lib/python3.11/dist-packages/sklearn/linear_model/_coordinate_descent.py:681: ConvergenceWarning: Objective did not converge. You might want to increase the number of iterations. Duality gap: 0.0006734042483929059, tolerance: 0.000608367421946317\n",
            "  model = cd_fast.enet_coordinate_descent_gram(\n",
            "/usr/local/lib/python3.11/dist-packages/sklearn/linear_model/_coordinate_descent.py:681: ConvergenceWarning: Objective did not converge. You might want to increase the number of iterations. Duality gap: 0.0006791436602369139, tolerance: 0.000608367421946317\n",
            "  model = cd_fast.enet_coordinate_descent_gram(\n",
            "/usr/local/lib/python3.11/dist-packages/sklearn/linear_model/_coordinate_descent.py:681: ConvergenceWarning: Objective did not converge. You might want to increase the number of iterations. Duality gap: 0.0006783057616965849, tolerance: 0.000608367421946317\n",
            "  model = cd_fast.enet_coordinate_descent_gram(\n",
            "/usr/local/lib/python3.11/dist-packages/sklearn/linear_model/_coordinate_descent.py:681: ConvergenceWarning: Objective did not converge. You might want to increase the number of iterations. Duality gap: 0.0006721397544433572, tolerance: 0.000608367421946317\n",
            "  model = cd_fast.enet_coordinate_descent_gram(\n"
          ]
        }
      ]
    },
    {
      "cell_type": "code",
      "source": [
        "# Fit model\n",
        "lin_model = LinearRegression()\n",
        "lin_model.fit(X_train, y_train)\n",
        "\n",
        "# Get feature names and coefficients\n",
        "coef_df = pd.DataFrame({\n",
        "    'Feature': X_train.columns,\n",
        "    'Coefficient': lin_model.coef_\n",
        "}).sort_values(by='Coefficient', key=abs, ascending=False)\n",
        "\n",
        "# Display intercept and coefficients\n",
        "print(f\"Intercept: {lin_model.intercept_}\")\n",
        "print(coef_df)"
      ],
      "metadata": {
        "colab": {
          "base_uri": "https://localhost:8080/"
        },
        "id": "IfNHHHFr-_wF",
        "outputId": "e23eb54f-b2d8-4a7a-dec8-68c151189264"
      },
      "id": "IfNHHHFr-_wF",
      "execution_count": null,
      "outputs": [
        {
          "output_type": "stream",
          "name": "stdout",
          "text": [
            "Intercept: 12.59147933891735\n",
            "                      Feature  Coefficient\n",
            "3        log_upload_frequency    -1.006327\n",
            "2   log_subscriber_per_upload    -0.614252\n",
            "0  log_subscriber_growth_rate     0.458787\n",
            "4        log_views_per_upload     0.400991\n",
            "6     log_upload_x_engagement     0.151177\n",
            "7     log_upload_freq_squared     0.115777\n",
            "5   log_engagement_per_upload    -0.050906\n",
            "1        log_duration_seconds    -0.012118\n"
          ]
        }
      ]
    },
    {
      "cell_type": "markdown",
      "id": "3f52f9f4",
      "metadata": {
        "id": "3f52f9f4"
      },
      "source": [
        "# 7. Visualize Predictions"
      ]
    },
    {
      "cell_type": "code",
      "execution_count": null,
      "id": "705bfa7d",
      "metadata": {
        "colab": {
          "base_uri": "https://localhost:8080/",
          "height": 564
        },
        "id": "705bfa7d",
        "outputId": "1106e721-0dc1-4232-eeec-ca8a3684547d"
      },
      "outputs": [
        {
          "output_type": "display_data",
          "data": {
            "text/plain": [
              "<Figure size 600x600 with 1 Axes>"
            ],
            "image/png": "[encoded data removed]"
          },
          "metadata": {}
        }
      ],
      "source": [
        "best_model = models['Random Forest']\n",
        "y_pred = best_model.predict(X_test)\n",
        "\n",
        "plt.figure(figsize=(6, 6))\n",
        "plt.scatter(y_test, y_pred, alpha=0.5)\n",
        "plt.plot([y_test.min(), y_test.max()], [y_test.min(), y_test.max()], 'r--')\n",
        "plt.xlabel(\"Actual\")\n",
        "plt.ylabel(\"Predicted\")\n",
        "plt.title(\"Actual vs Predicted: Random Forest\")\n",
        "plt.grid(True)\n",
        "plt.show()\n"
      ]
    },
    {
      "cell_type": "markdown",
      "source": [
        "Switch log_subscriber_growth_rate and log_view_count"
      ],
      "metadata": {
        "id": "_TPWcXdq_3SC"
      },
      "id": "_TPWcXdq_3SC"
    },
    {
      "cell_type": "code",
      "source": [
        "best_model = models['Random Forest']\n",
        "y_pred = best_model.predict(X_test)\n",
        "\n",
        "plt.figure(figsize=(6, 6))\n",
        "plt.scatter(y_test, y_pred, alpha=0.5)\n",
        "plt.plot([y_test.min(), y_test.max()], [y_test.min(), y_test.max()], 'r--')\n",
        "plt.xlabel(\"Actual\")\n",
        "plt.ylabel(\"Predicted\")\n",
        "plt.title(\"Actual vs Predicted: Random Forest\")\n",
        "plt.grid(True)\n",
        "plt.show()"
      ],
      "metadata": {
        "colab": {
          "base_uri": "https://localhost:8080/",
          "height": 564
        },
        "id": "xxFS7s1E_Q-u",
        "outputId": "a2bb3459-1ae5-4e6b-a56c-2d2ec8f996df"
      },
      "id": "xxFS7s1E_Q-u",
      "execution_count": null,
      "outputs": [
        {
          "output_type": "display_data",
          "data": {
            "text/plain": [
              "<Figure size 600x600 with 1 Axes>"
            ],
            "image/png": "[encoded data removed]"
          },
          "metadata": {}
        }
      ]
    },
    {
      "cell_type": "code",
      "source": [
        "# Save the DataFrame to CSV\n",
        "df.to_csv(\"youtube_cleaned.csv\", index=False)"
      ],
      "metadata": {
        "id": "BJqzpo4UlUUw"
      },
      "id": "BJqzpo4UlUUw",
      "execution_count": null,
      "outputs": []
    },
    {
      "cell_type": "code",
      "source": [
        "# Confirm the file was saved\n",
        "import os\n",
        "print(\"youtube_cleaned.csv\" in os.listdir())  # Should return True\n"
      ],
      "metadata": {
        "id": "UiqBuG2klU9n",
        "outputId": "5252ae8b-211e-4d15-a993-1b84f6450de3",
        "colab": {
          "base_uri": "https://localhost:8080/"
        }
      },
      "id": "UiqBuG2klU9n",
      "execution_count": null,
      "outputs": [
        {
          "output_type": "stream",
          "name": "stdout",
          "text": [
            "True\n"
          ]
        }
      ]
    },
    {
      "cell_type": "code",
      "source": [
        "from google.colab import files\n",
        "files.download(\"youtube_cleaned.csv\")\n",
        "\n"
      ],
      "metadata": {
        "id": "Rbz4jEQZGHZ4",
        "colab": {
          "base_uri": "https://localhost:8080/",
          "height": 17
        },
        "outputId": "be0e6c44-4c21-433f-efa6-26d96db880ef"
      },
      "id": "Rbz4jEQZGHZ4",
      "execution_count": null,
      "outputs": [
        {
          "output_type": "display_data",
          "data": {
            "text/plain": [
              "<IPython.core.display.Javascript object>"
            ],
            "application/javascript": [
              "\n",
              "    async function download(id, filename, size) {\n",
              "      if (!google.colab.kernel.accessAllowed) {\n",
              "        return;\n",
              "      }\n",
              "      const div = document.createElement('div');\n",
              "      const label = document.createElement('label');\n",
              "      label.textContent = `Downloading \"${filename}\": `;\n",
              "      div.appendChild(label);\n",
              "      const progress = document.createElement('progress');\n",
              "      progress.max = size;\n",
              "      div.appendChild(progress);\n",
              "      document.body.appendChild(div);\n",
              "\n",
              "      const buffers = [];\n",
              "      let downloaded = 0;\n",
              "\n",
              "      const channel = await google.colab.kernel.comms.open(id);\n",
              "      // Send a message to notify the kernel that we're ready.\n",
              "      channel.send({})\n",
              "\n",
              "      for await (const message of channel.messages) {\n",
              "        // Send a message to notify the kernel that we're ready.\n",
              "        channel.send({})\n",
              "        if (message.buffers) {\n",
              "          for (const buffer of message.buffers) {\n",
              "            buffers.push(buffer);\n",
              "            downloaded += buffer.byteLength;\n",
              "            progress.value = downloaded;\n",
              "          }\n",
              "        }\n",
              "      }\n",
              "      const blob = new Blob(buffers, {type: 'application/binary'});\n",
              "      const a = document.createElement('a');\n",
              "      a.href = window.URL.createObjectURL(blob);\n",
              "      a.download = filename;\n",
              "      div.appendChild(a);\n",
              "      a.click();\n",
              "      div.remove();\n",
              "    }\n",
              "  "
            ]
          },
          "metadata": {}
        },
        {
          "output_type": "display_data",
          "data": {
            "text/plain": [
              "<IPython.core.display.Javascript object>"
            ],
            "application/javascript": [
              "download(\"download_e82591c6-9519-45c4-b3aa-e2ec501d0e06\", \"youtube_cleaned.csv\", 126932)"
            ]
          },
          "metadata": {}
        }
      ]
    }
  ],
  "metadata": {
    "colab": {
      "provenance": [],
      "name": "youtube_analysis_cleaned.ipynb"
    },
    "language_info": {
      "name": "python"
    },
    "kernelspec": {
      "name": "python3",
      "display_name": "Python 3"
    }
  },
  "nbformat": 4,
  "nbformat_minor": 5
}
